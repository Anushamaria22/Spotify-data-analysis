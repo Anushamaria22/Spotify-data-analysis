{
 "cells": [
  {
   "cell_type": "markdown",
   "metadata": {},
   "source": [
    "# Spotify Data Analysis"
   ]
  },
  {
   "cell_type": "markdown",
   "metadata": {},
   "source": [
    "## Importing Libraries"
   ]
  },
  {
   "cell_type": "code",
   "execution_count": 1,
   "metadata": {},
   "outputs": [],
   "source": [
    "import numpy as np \n",
    "import pandas as pd \n",
    "import matplotlib.pyplot as plt\n",
    "import seaborn as sns\n",
    "\n",
    "import warnings\n",
    "warnings.filterwarnings(\"ignore\")"
   ]
  },
  {
   "cell_type": "markdown",
   "metadata": {},
   "source": [
    "## Reading Data"
   ]
  },
  {
   "cell_type": "code",
   "execution_count": 2,
   "metadata": {},
   "outputs": [],
   "source": [
    "spotify_song_data= pd.read_csv(\"C:\\\\Users\\\\ANUSHA\\\\Desktop\\\\Sem4\\\\ML Project\\\\19000-spotify-songs\\\\song_data.csv\")"
   ]
  },
  {
   "cell_type": "markdown",
   "metadata": {},
   "source": [
    "## Loading data"
   ]
  },
  {
   "cell_type": "code",
   "execution_count": 3,
   "metadata": {},
   "outputs": [],
   "source": [
    "song_data=spotify_song_data.copy()"
   ]
  },
  {
   "cell_type": "code",
   "execution_count": 4,
   "metadata": {
    "scrolled": false
   },
   "outputs": [
    {
     "data": {
      "text/plain": [
       "(18835, 15)"
      ]
     },
     "execution_count": 4,
     "metadata": {},
     "output_type": "execute_result"
    }
   ],
   "source": [
    "song_data.shape"
   ]
  },
  {
   "cell_type": "markdown",
   "metadata": {},
   "source": [
    "## Cleaning Data"
   ]
  },
  {
   "cell_type": "code",
   "execution_count": 5,
   "metadata": {},
   "outputs": [
    {
     "data": {
      "text/plain": [
       "Index([], dtype='object')"
      ]
     },
     "execution_count": 5,
     "metadata": {},
     "output_type": "execute_result"
    }
   ],
   "source": [
    "song_data.columns[song_data.isnull().any()]"
   ]
  },
  {
   "cell_type": "code",
   "execution_count": 6,
   "metadata": {
    "scrolled": true
   },
   "outputs": [
    {
     "data": {
      "text/plain": [
       "song_name           0\n",
       "song_popularity     0\n",
       "song_duration_ms    0\n",
       "acousticness        0\n",
       "danceability        0\n",
       "energy              0\n",
       "instrumentalness    0\n",
       "key                 0\n",
       "liveness            0\n",
       "loudness            0\n",
       "audio_mode          0\n",
       "speechiness         0\n",
       "tempo               0\n",
       "time_signature      0\n",
       "audio_valence       0\n",
       "dtype: int64"
      ]
     },
     "execution_count": 6,
     "metadata": {},
     "output_type": "execute_result"
    }
   ],
   "source": [
    "song_data.isnull().sum()"
   ]
  },
  {
   "cell_type": "code",
   "execution_count": 7,
   "metadata": {},
   "outputs": [
    {
     "name": "stdout",
     "output_type": "stream",
     "text": [
      "<class 'pandas.core.frame.DataFrame'>\n",
      "RangeIndex: 18835 entries, 0 to 18834\n",
      "Data columns (total 15 columns):\n",
      "song_name           18835 non-null object\n",
      "song_popularity     18835 non-null int64\n",
      "song_duration_ms    18835 non-null int64\n",
      "acousticness        18835 non-null float64\n",
      "danceability        18835 non-null float64\n",
      "energy              18835 non-null float64\n",
      "instrumentalness    18835 non-null float64\n",
      "key                 18835 non-null int64\n",
      "liveness            18835 non-null float64\n",
      "loudness            18835 non-null float64\n",
      "audio_mode          18835 non-null int64\n",
      "speechiness         18835 non-null float64\n",
      "tempo               18835 non-null float64\n",
      "time_signature      18835 non-null int64\n",
      "audio_valence       18835 non-null float64\n",
      "dtypes: float64(9), int64(5), object(1)\n",
      "memory usage: 2.2+ MB\n"
     ]
    }
   ],
   "source": [
    "song_data.info()"
   ]
  },
  {
   "cell_type": "code",
   "execution_count": 8,
   "metadata": {},
   "outputs": [],
   "source": [
    "song_data.song_duration_ms= song_data.song_duration_ms.astype(float)\n",
    "song_data.time_signature= song_data.time_signature.astype(float)\n",
    "song_data.audio_mode= song_data.audio_mode.astype(float)"
   ]
  },
  {
   "cell_type": "markdown",
   "metadata": {},
   "source": [
    "\n"
   ]
  },
  {
   "cell_type": "markdown",
   "metadata": {},
   "source": [
    "### If song popularity is above 70 then 1 else 0"
   ]
  },
  {
   "cell_type": "code",
   "execution_count": 9,
   "metadata": {},
   "outputs": [
    {
     "data": {
      "text/plain": [
       "0    14384\n",
       "1     4451\n",
       "Name: popularity, dtype: int64"
      ]
     },
     "execution_count": 9,
     "metadata": {},
     "output_type": "execute_result"
    }
   ],
   "source": [
    "song_data[\"popularity\"]= [ 1 if i>=70 else 0 for i in song_data.song_popularity ]\n",
    "song_data[\"popularity\"].value_counts()"
   ]
  },
  {
   "cell_type": "code",
   "execution_count": 10,
   "metadata": {},
   "outputs": [
    {
     "data": {
      "text/html": [
       "<div>\n",
       "<style scoped>\n",
       "    .dataframe tbody tr th:only-of-type {\n",
       "        vertical-align: middle;\n",
       "    }\n",
       "\n",
       "    .dataframe tbody tr th {\n",
       "        vertical-align: top;\n",
       "    }\n",
       "\n",
       "    .dataframe thead th {\n",
       "        text-align: right;\n",
       "    }\n",
       "</style>\n",
       "<table border=\"1\" class=\"dataframe\">\n",
       "  <thead>\n",
       "    <tr style=\"text-align: right;\">\n",
       "      <th></th>\n",
       "      <th>song_popularity</th>\n",
       "      <th>song_duration_ms</th>\n",
       "      <th>acousticness</th>\n",
       "      <th>danceability</th>\n",
       "      <th>energy</th>\n",
       "      <th>instrumentalness</th>\n",
       "      <th>key</th>\n",
       "      <th>liveness</th>\n",
       "      <th>loudness</th>\n",
       "      <th>audio_mode</th>\n",
       "      <th>speechiness</th>\n",
       "      <th>tempo</th>\n",
       "      <th>time_signature</th>\n",
       "      <th>audio_valence</th>\n",
       "      <th>popularity</th>\n",
       "    </tr>\n",
       "  </thead>\n",
       "  <tbody>\n",
       "    <tr>\n",
       "      <td>count</td>\n",
       "      <td>4451.000000</td>\n",
       "      <td>4451.000000</td>\n",
       "      <td>4451.000000</td>\n",
       "      <td>4451.000000</td>\n",
       "      <td>4451.00000</td>\n",
       "      <td>4451.000000</td>\n",
       "      <td>4451.000000</td>\n",
       "      <td>4451.000000</td>\n",
       "      <td>4451.000000</td>\n",
       "      <td>4451.000000</td>\n",
       "      <td>4451.000000</td>\n",
       "      <td>4451.000000</td>\n",
       "      <td>4451.000000</td>\n",
       "      <td>4451.000000</td>\n",
       "      <td>4451.0</td>\n",
       "    </tr>\n",
       "    <tr>\n",
       "      <td>mean</td>\n",
       "      <td>78.996630</td>\n",
       "      <td>218759.741182</td>\n",
       "      <td>0.205759</td>\n",
       "      <td>0.666539</td>\n",
       "      <td>0.66148</td>\n",
       "      <td>0.017081</td>\n",
       "      <td>5.146709</td>\n",
       "      <td>0.173100</td>\n",
       "      <td>-6.447939</td>\n",
       "      <td>0.611548</td>\n",
       "      <td>0.107827</td>\n",
       "      <td>120.804441</td>\n",
       "      <td>3.975062</td>\n",
       "      <td>0.519917</td>\n",
       "      <td>1.0</td>\n",
       "    </tr>\n",
       "    <tr>\n",
       "      <td>std</td>\n",
       "      <td>7.590576</td>\n",
       "      <td>47607.918329</td>\n",
       "      <td>0.237503</td>\n",
       "      <td>0.146182</td>\n",
       "      <td>0.18032</td>\n",
       "      <td>0.096281</td>\n",
       "      <td>3.681695</td>\n",
       "      <td>0.135505</td>\n",
       "      <td>2.869713</td>\n",
       "      <td>0.487453</td>\n",
       "      <td>0.101882</td>\n",
       "      <td>27.385798</td>\n",
       "      <td>0.247337</td>\n",
       "      <td>0.228177</td>\n",
       "      <td>0.0</td>\n",
       "    </tr>\n",
       "    <tr>\n",
       "      <td>min</td>\n",
       "      <td>70.000000</td>\n",
       "      <td>95316.000000</td>\n",
       "      <td>0.000018</td>\n",
       "      <td>0.072200</td>\n",
       "      <td>0.00289</td>\n",
       "      <td>0.000000</td>\n",
       "      <td>0.000000</td>\n",
       "      <td>0.021500</td>\n",
       "      <td>-31.994000</td>\n",
       "      <td>0.000000</td>\n",
       "      <td>0.022800</td>\n",
       "      <td>60.048000</td>\n",
       "      <td>1.000000</td>\n",
       "      <td>0.035200</td>\n",
       "      <td>1.0</td>\n",
       "    </tr>\n",
       "    <tr>\n",
       "      <td>25%</td>\n",
       "      <td>73.000000</td>\n",
       "      <td>190295.000000</td>\n",
       "      <td>0.027900</td>\n",
       "      <td>0.571500</td>\n",
       "      <td>0.54500</td>\n",
       "      <td>0.000000</td>\n",
       "      <td>1.000000</td>\n",
       "      <td>0.091500</td>\n",
       "      <td>-7.648000</td>\n",
       "      <td>0.000000</td>\n",
       "      <td>0.039400</td>\n",
       "      <td>98.970000</td>\n",
       "      <td>4.000000</td>\n",
       "      <td>0.336500</td>\n",
       "      <td>1.0</td>\n",
       "    </tr>\n",
       "    <tr>\n",
       "      <td>50%</td>\n",
       "      <td>77.000000</td>\n",
       "      <td>212500.000000</td>\n",
       "      <td>0.106000</td>\n",
       "      <td>0.676000</td>\n",
       "      <td>0.68000</td>\n",
       "      <td>0.000000</td>\n",
       "      <td>5.000000</td>\n",
       "      <td>0.120000</td>\n",
       "      <td>-5.892000</td>\n",
       "      <td>1.000000</td>\n",
       "      <td>0.060200</td>\n",
       "      <td>119.886000</td>\n",
       "      <td>4.000000</td>\n",
       "      <td>0.510000</td>\n",
       "      <td>1.0</td>\n",
       "    </tr>\n",
       "    <tr>\n",
       "      <td>75%</td>\n",
       "      <td>84.000000</td>\n",
       "      <td>240687.500000</td>\n",
       "      <td>0.294500</td>\n",
       "      <td>0.768000</td>\n",
       "      <td>0.80050</td>\n",
       "      <td>0.000077</td>\n",
       "      <td>8.000000</td>\n",
       "      <td>0.203000</td>\n",
       "      <td>-4.590000</td>\n",
       "      <td>1.000000</td>\n",
       "      <td>0.136000</td>\n",
       "      <td>139.910000</td>\n",
       "      <td>4.000000</td>\n",
       "      <td>0.692000</td>\n",
       "      <td>1.0</td>\n",
       "    </tr>\n",
       "    <tr>\n",
       "      <td>max</td>\n",
       "      <td>100.000000</td>\n",
       "      <td>547733.000000</td>\n",
       "      <td>0.996000</td>\n",
       "      <td>0.978000</td>\n",
       "      <td>0.99600</td>\n",
       "      <td>0.968000</td>\n",
       "      <td>11.000000</td>\n",
       "      <td>0.978000</td>\n",
       "      <td>-0.739000</td>\n",
       "      <td>1.000000</td>\n",
       "      <td>0.733000</td>\n",
       "      <td>205.999000</td>\n",
       "      <td>5.000000</td>\n",
       "      <td>0.980000</td>\n",
       "      <td>1.0</td>\n",
       "    </tr>\n",
       "  </tbody>\n",
       "</table>\n",
       "</div>"
      ],
      "text/plain": [
       "       song_popularity  song_duration_ms  acousticness  danceability  \\\n",
       "count      4451.000000       4451.000000   4451.000000   4451.000000   \n",
       "mean         78.996630     218759.741182      0.205759      0.666539   \n",
       "std           7.590576      47607.918329      0.237503      0.146182   \n",
       "min          70.000000      95316.000000      0.000018      0.072200   \n",
       "25%          73.000000     190295.000000      0.027900      0.571500   \n",
       "50%          77.000000     212500.000000      0.106000      0.676000   \n",
       "75%          84.000000     240687.500000      0.294500      0.768000   \n",
       "max         100.000000     547733.000000      0.996000      0.978000   \n",
       "\n",
       "           energy  instrumentalness          key     liveness     loudness  \\\n",
       "count  4451.00000       4451.000000  4451.000000  4451.000000  4451.000000   \n",
       "mean      0.66148          0.017081     5.146709     0.173100    -6.447939   \n",
       "std       0.18032          0.096281     3.681695     0.135505     2.869713   \n",
       "min       0.00289          0.000000     0.000000     0.021500   -31.994000   \n",
       "25%       0.54500          0.000000     1.000000     0.091500    -7.648000   \n",
       "50%       0.68000          0.000000     5.000000     0.120000    -5.892000   \n",
       "75%       0.80050          0.000077     8.000000     0.203000    -4.590000   \n",
       "max       0.99600          0.968000    11.000000     0.978000    -0.739000   \n",
       "\n",
       "        audio_mode  speechiness        tempo  time_signature  audio_valence  \\\n",
       "count  4451.000000  4451.000000  4451.000000     4451.000000    4451.000000   \n",
       "mean      0.611548     0.107827   120.804441        3.975062       0.519917   \n",
       "std       0.487453     0.101882    27.385798        0.247337       0.228177   \n",
       "min       0.000000     0.022800    60.048000        1.000000       0.035200   \n",
       "25%       0.000000     0.039400    98.970000        4.000000       0.336500   \n",
       "50%       1.000000     0.060200   119.886000        4.000000       0.510000   \n",
       "75%       1.000000     0.136000   139.910000        4.000000       0.692000   \n",
       "max       1.000000     0.733000   205.999000        5.000000       0.980000   \n",
       "\n",
       "       popularity  \n",
       "count      4451.0  \n",
       "mean          1.0  \n",
       "std           0.0  \n",
       "min           1.0  \n",
       "25%           1.0  \n",
       "50%           1.0  \n",
       "75%           1.0  \n",
       "max           1.0  "
      ]
     },
     "execution_count": 10,
     "metadata": {},
     "output_type": "execute_result"
    }
   ],
   "source": [
    "p=song_data[song_data[\"popularity\"]==1]\n",
    "p.describe()"
   ]
  },
  {
   "cell_type": "markdown",
   "metadata": {},
   "source": [
    "### Correlation with features"
   ]
  },
  {
   "cell_type": "code",
   "execution_count": 11,
   "metadata": {},
   "outputs": [
    {
     "data": {
      "text/html": [
       "<div>\n",
       "<style scoped>\n",
       "    .dataframe tbody tr th:only-of-type {\n",
       "        vertical-align: middle;\n",
       "    }\n",
       "\n",
       "    .dataframe tbody tr th {\n",
       "        vertical-align: top;\n",
       "    }\n",
       "\n",
       "    .dataframe thead th {\n",
       "        text-align: right;\n",
       "    }\n",
       "</style>\n",
       "<table border=\"1\" class=\"dataframe\">\n",
       "  <thead>\n",
       "    <tr style=\"text-align: right;\">\n",
       "      <th></th>\n",
       "      <th>song_popularity</th>\n",
       "      <th>song_duration_ms</th>\n",
       "      <th>acousticness</th>\n",
       "      <th>danceability</th>\n",
       "      <th>energy</th>\n",
       "      <th>instrumentalness</th>\n",
       "      <th>key</th>\n",
       "      <th>liveness</th>\n",
       "      <th>loudness</th>\n",
       "      <th>audio_mode</th>\n",
       "      <th>speechiness</th>\n",
       "      <th>tempo</th>\n",
       "      <th>time_signature</th>\n",
       "      <th>audio_valence</th>\n",
       "      <th>popularity</th>\n",
       "    </tr>\n",
       "  </thead>\n",
       "  <tbody>\n",
       "    <tr>\n",
       "      <td>song_popularity</td>\n",
       "      <td>1.000000</td>\n",
       "      <td>-0.018899</td>\n",
       "      <td>-0.065181</td>\n",
       "      <td>0.104290</td>\n",
       "      <td>0.001365</td>\n",
       "      <td>-0.130907</td>\n",
       "      <td>-0.013160</td>\n",
       "      <td>-0.038937</td>\n",
       "      <td>0.099442</td>\n",
       "      <td>-0.004969</td>\n",
       "      <td>0.021479</td>\n",
       "      <td>-0.022672</td>\n",
       "      <td>0.034983</td>\n",
       "      <td>-0.052895</td>\n",
       "      <td>0.660385</td>\n",
       "    </tr>\n",
       "    <tr>\n",
       "      <td>song_duration_ms</td>\n",
       "      <td>-0.018899</td>\n",
       "      <td>1.000000</td>\n",
       "      <td>-0.097882</td>\n",
       "      <td>-0.104985</td>\n",
       "      <td>0.092688</td>\n",
       "      <td>-0.015188</td>\n",
       "      <td>-0.004615</td>\n",
       "      <td>0.016086</td>\n",
       "      <td>0.016469</td>\n",
       "      <td>-0.026328</td>\n",
       "      <td>-0.083447</td>\n",
       "      <td>0.012791</td>\n",
       "      <td>0.000264</td>\n",
       "      <td>-0.063421</td>\n",
       "      <td>0.005092</td>\n",
       "    </tr>\n",
       "    <tr>\n",
       "      <td>acousticness</td>\n",
       "      <td>-0.065181</td>\n",
       "      <td>-0.097882</td>\n",
       "      <td>1.000000</td>\n",
       "      <td>-0.182500</td>\n",
       "      <td>-0.662639</td>\n",
       "      <td>0.173098</td>\n",
       "      <td>-0.002025</td>\n",
       "      <td>-0.082537</td>\n",
       "      <td>-0.557744</td>\n",
       "      <td>0.064100</td>\n",
       "      <td>-0.093574</td>\n",
       "      <td>-0.136421</td>\n",
       "      <td>-0.157177</td>\n",
       "      <td>-0.121670</td>\n",
       "      <td>-0.101694</td>\n",
       "    </tr>\n",
       "    <tr>\n",
       "      <td>danceability</td>\n",
       "      <td>0.104290</td>\n",
       "      <td>-0.104985</td>\n",
       "      <td>-0.182500</td>\n",
       "      <td>1.000000</td>\n",
       "      <td>0.044373</td>\n",
       "      <td>-0.130483</td>\n",
       "      <td>0.007723</td>\n",
       "      <td>-0.090694</td>\n",
       "      <td>0.177639</td>\n",
       "      <td>-0.106539</td>\n",
       "      <td>0.213728</td>\n",
       "      <td>-0.121286</td>\n",
       "      <td>0.136391</td>\n",
       "      <td>0.332014</td>\n",
       "      <td>0.117811</td>\n",
       "    </tr>\n",
       "    <tr>\n",
       "      <td>energy</td>\n",
       "      <td>0.001365</td>\n",
       "      <td>0.092688</td>\n",
       "      <td>-0.662639</td>\n",
       "      <td>0.044373</td>\n",
       "      <td>1.000000</td>\n",
       "      <td>-0.205914</td>\n",
       "      <td>0.020416</td>\n",
       "      <td>0.167143</td>\n",
       "      <td>0.755516</td>\n",
       "      <td>-0.051605</td>\n",
       "      <td>0.062053</td>\n",
       "      <td>0.162448</td>\n",
       "      <td>0.146265</td>\n",
       "      <td>0.316742</td>\n",
       "      <td>0.042833</td>\n",
       "    </tr>\n",
       "    <tr>\n",
       "      <td>instrumentalness</td>\n",
       "      <td>-0.130907</td>\n",
       "      <td>-0.015188</td>\n",
       "      <td>0.173098</td>\n",
       "      <td>-0.130483</td>\n",
       "      <td>-0.205914</td>\n",
       "      <td>1.000000</td>\n",
       "      <td>-0.009463</td>\n",
       "      <td>-0.032887</td>\n",
       "      <td>-0.390248</td>\n",
       "      <td>-0.014983</td>\n",
       "      <td>-0.081138</td>\n",
       "      <td>-0.036934</td>\n",
       "      <td>-0.069181</td>\n",
       "      <td>-0.178570</td>\n",
       "      <td>-0.152954</td>\n",
       "    </tr>\n",
       "    <tr>\n",
       "      <td>key</td>\n",
       "      <td>-0.013160</td>\n",
       "      <td>-0.004615</td>\n",
       "      <td>-0.002025</td>\n",
       "      <td>0.007723</td>\n",
       "      <td>0.020416</td>\n",
       "      <td>-0.009463</td>\n",
       "      <td>1.000000</td>\n",
       "      <td>-0.008193</td>\n",
       "      <td>0.010452</td>\n",
       "      <td>-0.169848</td>\n",
       "      <td>0.033639</td>\n",
       "      <td>0.003239</td>\n",
       "      <td>-0.008282</td>\n",
       "      <td>0.025356</td>\n",
       "      <td>-0.021929</td>\n",
       "    </tr>\n",
       "    <tr>\n",
       "      <td>liveness</td>\n",
       "      <td>-0.038937</td>\n",
       "      <td>0.016086</td>\n",
       "      <td>-0.082537</td>\n",
       "      <td>-0.090694</td>\n",
       "      <td>0.167143</td>\n",
       "      <td>-0.032887</td>\n",
       "      <td>-0.008193</td>\n",
       "      <td>1.000000</td>\n",
       "      <td>0.102450</td>\n",
       "      <td>-0.001035</td>\n",
       "      <td>0.090845</td>\n",
       "      <td>0.031876</td>\n",
       "      <td>0.013289</td>\n",
       "      <td>0.013789</td>\n",
       "      <td>-0.025308</td>\n",
       "    </tr>\n",
       "    <tr>\n",
       "      <td>loudness</td>\n",
       "      <td>0.099442</td>\n",
       "      <td>0.016469</td>\n",
       "      <td>-0.557744</td>\n",
       "      <td>0.177639</td>\n",
       "      <td>0.755516</td>\n",
       "      <td>-0.390248</td>\n",
       "      <td>0.010452</td>\n",
       "      <td>0.102450</td>\n",
       "      <td>1.000000</td>\n",
       "      <td>-0.058506</td>\n",
       "      <td>0.078164</td>\n",
       "      <td>0.129938</td>\n",
       "      <td>0.119241</td>\n",
       "      <td>0.199696</td>\n",
       "      <td>0.145254</td>\n",
       "    </tr>\n",
       "    <tr>\n",
       "      <td>audio_mode</td>\n",
       "      <td>-0.004969</td>\n",
       "      <td>-0.026328</td>\n",
       "      <td>0.064100</td>\n",
       "      <td>-0.106539</td>\n",
       "      <td>-0.051605</td>\n",
       "      <td>-0.014983</td>\n",
       "      <td>-0.169848</td>\n",
       "      <td>-0.001035</td>\n",
       "      <td>-0.058506</td>\n",
       "      <td>1.000000</td>\n",
       "      <td>-0.111627</td>\n",
       "      <td>0.020448</td>\n",
       "      <td>-0.024042</td>\n",
       "      <td>-0.004558</td>\n",
       "      <td>-0.019096</td>\n",
       "    </tr>\n",
       "    <tr>\n",
       "      <td>speechiness</td>\n",
       "      <td>0.021479</td>\n",
       "      <td>-0.083447</td>\n",
       "      <td>-0.093574</td>\n",
       "      <td>0.213728</td>\n",
       "      <td>0.062053</td>\n",
       "      <td>-0.081138</td>\n",
       "      <td>0.033639</td>\n",
       "      <td>0.090845</td>\n",
       "      <td>0.078164</td>\n",
       "      <td>-0.111627</td>\n",
       "      <td>1.000000</td>\n",
       "      <td>0.071685</td>\n",
       "      <td>0.057162</td>\n",
       "      <td>0.011046</td>\n",
       "      <td>0.030528</td>\n",
       "    </tr>\n",
       "    <tr>\n",
       "      <td>tempo</td>\n",
       "      <td>-0.022672</td>\n",
       "      <td>0.012791</td>\n",
       "      <td>-0.136421</td>\n",
       "      <td>-0.121286</td>\n",
       "      <td>0.162448</td>\n",
       "      <td>-0.036934</td>\n",
       "      <td>0.003239</td>\n",
       "      <td>0.031876</td>\n",
       "      <td>0.129938</td>\n",
       "      <td>0.020448</td>\n",
       "      <td>0.071685</td>\n",
       "      <td>1.000000</td>\n",
       "      <td>0.003978</td>\n",
       "      <td>0.037667</td>\n",
       "      <td>-0.005206</td>\n",
       "    </tr>\n",
       "    <tr>\n",
       "      <td>time_signature</td>\n",
       "      <td>0.034983</td>\n",
       "      <td>0.000264</td>\n",
       "      <td>-0.157177</td>\n",
       "      <td>0.136391</td>\n",
       "      <td>0.146265</td>\n",
       "      <td>-0.069181</td>\n",
       "      <td>-0.008282</td>\n",
       "      <td>0.013289</td>\n",
       "      <td>0.119241</td>\n",
       "      <td>-0.024042</td>\n",
       "      <td>0.057162</td>\n",
       "      <td>0.003978</td>\n",
       "      <td>1.000000</td>\n",
       "      <td>0.094670</td>\n",
       "      <td>0.029709</td>\n",
       "    </tr>\n",
       "    <tr>\n",
       "      <td>audio_valence</td>\n",
       "      <td>-0.052895</td>\n",
       "      <td>-0.063421</td>\n",
       "      <td>-0.121670</td>\n",
       "      <td>0.332014</td>\n",
       "      <td>0.316742</td>\n",
       "      <td>-0.178570</td>\n",
       "      <td>0.025356</td>\n",
       "      <td>0.013789</td>\n",
       "      <td>0.199696</td>\n",
       "      <td>-0.004558</td>\n",
       "      <td>0.011046</td>\n",
       "      <td>0.037667</td>\n",
       "      <td>0.094670</td>\n",
       "      <td>1.000000</td>\n",
       "      <td>-0.018305</td>\n",
       "    </tr>\n",
       "    <tr>\n",
       "      <td>popularity</td>\n",
       "      <td>0.660385</td>\n",
       "      <td>0.005092</td>\n",
       "      <td>-0.101694</td>\n",
       "      <td>0.117811</td>\n",
       "      <td>0.042833</td>\n",
       "      <td>-0.152954</td>\n",
       "      <td>-0.021929</td>\n",
       "      <td>-0.025308</td>\n",
       "      <td>0.145254</td>\n",
       "      <td>-0.019096</td>\n",
       "      <td>0.030528</td>\n",
       "      <td>-0.005206</td>\n",
       "      <td>0.029709</td>\n",
       "      <td>-0.018305</td>\n",
       "      <td>1.000000</td>\n",
       "    </tr>\n",
       "  </tbody>\n",
       "</table>\n",
       "</div>"
      ],
      "text/plain": [
       "                  song_popularity  song_duration_ms  acousticness  \\\n",
       "song_popularity          1.000000         -0.018899     -0.065181   \n",
       "song_duration_ms        -0.018899          1.000000     -0.097882   \n",
       "acousticness            -0.065181         -0.097882      1.000000   \n",
       "danceability             0.104290         -0.104985     -0.182500   \n",
       "energy                   0.001365          0.092688     -0.662639   \n",
       "instrumentalness        -0.130907         -0.015188      0.173098   \n",
       "key                     -0.013160         -0.004615     -0.002025   \n",
       "liveness                -0.038937          0.016086     -0.082537   \n",
       "loudness                 0.099442          0.016469     -0.557744   \n",
       "audio_mode              -0.004969         -0.026328      0.064100   \n",
       "speechiness              0.021479         -0.083447     -0.093574   \n",
       "tempo                   -0.022672          0.012791     -0.136421   \n",
       "time_signature           0.034983          0.000264     -0.157177   \n",
       "audio_valence           -0.052895         -0.063421     -0.121670   \n",
       "popularity               0.660385          0.005092     -0.101694   \n",
       "\n",
       "                  danceability    energy  instrumentalness       key  \\\n",
       "song_popularity       0.104290  0.001365         -0.130907 -0.013160   \n",
       "song_duration_ms     -0.104985  0.092688         -0.015188 -0.004615   \n",
       "acousticness         -0.182500 -0.662639          0.173098 -0.002025   \n",
       "danceability          1.000000  0.044373         -0.130483  0.007723   \n",
       "energy                0.044373  1.000000         -0.205914  0.020416   \n",
       "instrumentalness     -0.130483 -0.205914          1.000000 -0.009463   \n",
       "key                   0.007723  0.020416         -0.009463  1.000000   \n",
       "liveness             -0.090694  0.167143         -0.032887 -0.008193   \n",
       "loudness              0.177639  0.755516         -0.390248  0.010452   \n",
       "audio_mode           -0.106539 -0.051605         -0.014983 -0.169848   \n",
       "speechiness           0.213728  0.062053         -0.081138  0.033639   \n",
       "tempo                -0.121286  0.162448         -0.036934  0.003239   \n",
       "time_signature        0.136391  0.146265         -0.069181 -0.008282   \n",
       "audio_valence         0.332014  0.316742         -0.178570  0.025356   \n",
       "popularity            0.117811  0.042833         -0.152954 -0.021929   \n",
       "\n",
       "                  liveness  loudness  audio_mode  speechiness     tempo  \\\n",
       "song_popularity  -0.038937  0.099442   -0.004969     0.021479 -0.022672   \n",
       "song_duration_ms  0.016086  0.016469   -0.026328    -0.083447  0.012791   \n",
       "acousticness     -0.082537 -0.557744    0.064100    -0.093574 -0.136421   \n",
       "danceability     -0.090694  0.177639   -0.106539     0.213728 -0.121286   \n",
       "energy            0.167143  0.755516   -0.051605     0.062053  0.162448   \n",
       "instrumentalness -0.032887 -0.390248   -0.014983    -0.081138 -0.036934   \n",
       "key              -0.008193  0.010452   -0.169848     0.033639  0.003239   \n",
       "liveness          1.000000  0.102450   -0.001035     0.090845  0.031876   \n",
       "loudness          0.102450  1.000000   -0.058506     0.078164  0.129938   \n",
       "audio_mode       -0.001035 -0.058506    1.000000    -0.111627  0.020448   \n",
       "speechiness       0.090845  0.078164   -0.111627     1.000000  0.071685   \n",
       "tempo             0.031876  0.129938    0.020448     0.071685  1.000000   \n",
       "time_signature    0.013289  0.119241   -0.024042     0.057162  0.003978   \n",
       "audio_valence     0.013789  0.199696   -0.004558     0.011046  0.037667   \n",
       "popularity       -0.025308  0.145254   -0.019096     0.030528 -0.005206   \n",
       "\n",
       "                  time_signature  audio_valence  popularity  \n",
       "song_popularity         0.034983      -0.052895    0.660385  \n",
       "song_duration_ms        0.000264      -0.063421    0.005092  \n",
       "acousticness           -0.157177      -0.121670   -0.101694  \n",
       "danceability            0.136391       0.332014    0.117811  \n",
       "energy                  0.146265       0.316742    0.042833  \n",
       "instrumentalness       -0.069181      -0.178570   -0.152954  \n",
       "key                    -0.008282       0.025356   -0.021929  \n",
       "liveness                0.013289       0.013789   -0.025308  \n",
       "loudness                0.119241       0.199696    0.145254  \n",
       "audio_mode             -0.024042      -0.004558   -0.019096  \n",
       "speechiness             0.057162       0.011046    0.030528  \n",
       "tempo                   0.003978       0.037667   -0.005206  \n",
       "time_signature          1.000000       0.094670    0.029709  \n",
       "audio_valence           0.094670       1.000000   -0.018305  \n",
       "popularity              0.029709      -0.018305    1.000000  "
      ]
     },
     "execution_count": 11,
     "metadata": {},
     "output_type": "execute_result"
    }
   ],
   "source": [
    "song_data.corr()"
   ]
  },
  {
   "cell_type": "code",
   "execution_count": 12,
   "metadata": {},
   "outputs": [
    {
     "data": {
      "image/png": "[encoded data removed]",
      "text/plain": [
       "<Figure size 864x864 with 2 Axes>"
      ]
     },
     "metadata": {
      "needs_background": "light"
     },
     "output_type": "display_data"
    }
   ],
   "source": [
    "f,ax = plt.subplots(figsize=(12, 12))\n",
    "mask = np.zeros_like(song_data.corr())\n",
    "mask[np.triu_indices_from(mask)] = True\n",
    "sns.heatmap(song_data.corr(), annot=True, linewidths=0.4,linecolor=\"white\", fmt= '.1f',ax=ax,cmap=\"Blues\",mask=mask)\n",
    "plt.show()"
   ]
  },
  {
   "cell_type": "markdown",
   "metadata": {},
   "source": [
    "Correlation between loudness and energy is 0.8 which is strong and correlation between loudness and accusticness is 0.6 is moderate. Except two of them all the correlations are quite low. Comparing the correlation between song_popularity and all other features, there is no linear relationship which gives us a clear information about popularity. Accusticness,danceability and loudness seems to have correlation with popularity feature(0.10) and istrumentalness has 0.20."
   ]
  },
  {
   "cell_type": "markdown",
   "metadata": {},
   "source": [
    "## Features"
   ]
  },
  {
   "cell_type": "code",
   "execution_count": 13,
   "metadata": {},
   "outputs": [
    {
     "data": {
      "image/png": "[encoded data removed]",
      "text/plain": [
       "<Figure size 1080x1080 with 14 Axes>"
      ]
     },
     "metadata": {
      "needs_background": "light"
     },
     "output_type": "display_data"
    }
   ],
   "source": [
    "f, axes = plt.subplots(3, 5, figsize=(15, 15))\n",
    "sns.distplot( song_data[\"song_duration_ms\"] , color=\"teal\", ax=axes[0, 0])\n",
    "sns.distplot( song_data[\"instrumentalness\"] , color=\"teal\", ax=axes[0, 1])\n",
    "sns.distplot( song_data[\"acousticness\"] , color=\"teal\", ax=axes[0, 2])\n",
    "sns.distplot( song_data[\"danceability\"] , color=\"teal\", ax=axes[0, 3])\n",
    "sns.distplot( song_data[\"energy\"] , color=\"teal\", ax=axes[0, 4])\n",
    "sns.distplot( song_data[\"song_popularity\"] , color=\"teal\", ax=axes[1, 0])\n",
    "sns.distplot( song_data[\"key\"] , color=\"teal\", ax=axes[1, 1])\n",
    "sns.distplot( song_data[\"liveness\"] , color=\"teal\", ax=axes[1, 2])\n",
    "sns.distplot( song_data[\"loudness\"] , color=\"teal\", ax=axes[1, 3])\n",
    "sns.distplot( song_data[\"audio_mode\"] , color=\"teal\", ax=axes[1, 4])\n",
    "sns.distplot( song_data[\"tempo\"] , color=\"teal\", ax=axes[2, 0])\n",
    "sns.distplot( song_data[\"speechiness\"] , color=\"teal\", ax=axes[2, 1])\n",
    "sns.distplot( song_data[\"time_signature\"] , color=\"teal\", ax=axes[2, 2])\n",
    "sns.distplot( song_data[\"audio_valence\"] , color=\"teal\", ax=axes[2, 3])\n",
    "f.delaxes(axes[2][4])\n",
    "plt.show()\n"
   ]
  },
  {
   "cell_type": "code",
   "execution_count": 14,
   "metadata": {},
   "outputs": [],
   "source": [
    "song_data.drop([\"song_popularity\",\"song_name\"],axis=1,inplace=True)"
   ]
  },
  {
   "cell_type": "code",
   "execution_count": 15,
   "metadata": {},
   "outputs": [
    {
     "data": {
      "text/plain": [
       "Index([], dtype='object')"
      ]
     },
     "execution_count": 15,
     "metadata": {},
     "output_type": "execute_result"
    }
   ],
   "source": [
    "song_data.columns[song_data.isnull().any()]"
   ]
  },
  {
   "cell_type": "markdown",
   "metadata": {},
   "source": [
    "## Data Preparation"
   ]
  },
  {
   "cell_type": "code",
   "execution_count": 16,
   "metadata": {},
   "outputs": [
    {
     "name": "stdout",
     "output_type": "stream",
     "text": [
      "x_train:  (13, 15068)\n",
      "x_test:  (13, 3767)\n",
      "y_train:  (15068,)\n",
      "y_test:  (3767,)\n"
     ]
    }
   ],
   "source": [
    "y = song_data[\"popularity\"].values\n",
    "x_data=song_data.drop([\"popularity\"],axis=1)\n",
    "#normalization\n",
    "x = (x_data - np.min(x_data))/(np.max(x_data)-np.min(x_data)).values#train test split\n",
    "from sklearn.model_selection import train_test_split\n",
    "x_train, x_test, y_train, y_test = train_test_split(x,y,test_size = 0.2,random_state=42)\n",
    "x_train = x_train.T\n",
    "x_test = x_test.T\n",
    "y_train = y_train.astype(int).T\n",
    "y_test = y_test.astype(int).T\n",
    "print(\"x_train: \",x_train.shape)\n",
    "print(\"x_test: \",x_test.shape)\n",
    "print(\"y_train: \",y_train.shape)\n",
    "print(\"y_test: \",y_test.shape)"
   ]
  },
  {
   "cell_type": "markdown",
   "metadata": {},
   "source": [
    "## Logistic Regression"
   ]
  },
  {
   "cell_type": "markdown",
   "metadata": {},
   "source": [
    "### Initializing Paramaters and sigmoid function "
   ]
  },
  {
   "cell_type": "code",
   "execution_count": 17,
   "metadata": {},
   "outputs": [],
   "source": [
    "def initialize_weights_and_bias(dimension):\n",
    "    w=np.full((dimension,1),0.01)\n",
    "    b=0.0\n",
    "    return w,b\n",
    "\n",
    "def sigmoid(z):\n",
    "    y_head = 1/(1+ np.exp(-z))\n",
    "    return y_head"
   ]
  },
  {
   "cell_type": "code",
   "execution_count": 18,
   "metadata": {},
   "outputs": [],
   "source": [
    "def forward_backward_propagation(w,b,x_train,y_train):\n",
    "    z = np.dot(w.T,x_train) + b\n",
    "    y_head = sigmoid(z)\n",
    "    loss = -y_train*np.log(y_head)-(1-y_train)*np.log(1-y_head)\n",
    "    cost = (np.sum(loss))/x_train.shape[1]      \n",
    "\n",
    "    derivative_weight = (np.dot(x_train,((y_head-y_train).T)))/x_train.shape[1] \n",
    "    derivative_bias = np.sum(y_head-y_train)/x_train.shape[1]                 \n",
    "    gradients = {\"derivative_weight\": derivative_weight,\"derivative_bias\": derivative_bias}\n",
    "    return cost,gradients"
   ]
  },
  {
   "cell_type": "markdown",
   "metadata": {},
   "source": [
    "### Updating Learning Parameters"
   ]
  },
  {
   "cell_type": "code",
   "execution_count": 19,
   "metadata": {},
   "outputs": [],
   "source": [
    "def update(w, b, x_train, y_train, learning_rate,number_of_iterarion):\n",
    "    cost_list = []\n",
    "    cost_list2 = []\n",
    "    index = []\n",
    "\n",
    "    for i in range(number_of_iterarion):\n",
    "        cost,gradients = forward_backward_propagation(w,b,x_train,y_train)\n",
    "        cost_list.append(cost)\n",
    "        w = w - learning_rate * gradients[\"derivative_weight\"]\n",
    "        b = b - learning_rate * gradients[\"derivative_bias\"]\n",
    "        if i % 10 == 0:\n",
    "            cost_list2.append(cost)\n",
    "            index.append(i)\n",
    "            print (\"Cost after iteration %i: %f\" %(i, cost))\n",
    "    \n",
    "    parameters = {\"weight\": w,\"bias\": b}\n",
    "    plt.plot(index,cost_list2)\n",
    "    plt.xticks(index,rotation='vertical')\n",
    "    plt.xlabel(\"Number of Iterarion\")\n",
    "    plt.ylabel(\"Cost\")\n",
    "    plt.show()\n",
    "    return parameters, gradients, cost_list"
   ]
  },
  {
   "cell_type": "code",
   "execution_count": 20,
   "metadata": {},
   "outputs": [],
   "source": [
    "def predict(w,b,x_test):\n",
    "    z = sigmoid(np.dot(w.T,x_test)+b)\n",
    "    Y_prediction = np.zeros((1,x_test.shape[1]))\n",
    "\n",
    "    for i in range(z.shape[1]):\n",
    "        if z[0,i]<= 0.5:\n",
    "            Y_prediction[0,i] = 0\n",
    "        else:\n",
    "            Y_prediction[0,i] = 1\n",
    "\n",
    "    return Y_prediction"
   ]
  },
  {
   "cell_type": "code",
   "execution_count": 21,
   "metadata": {},
   "outputs": [
    {
     "name": "stdout",
     "output_type": "stream",
     "text": [
      "Cost after iteration 0: 0.708830\n",
      "Cost after iteration 10: 0.678699\n",
      "Cost after iteration 20: 0.654520\n",
      "Cost after iteration 30: 0.635092\n",
      "Cost after iteration 40: 0.619446\n",
      "Cost after iteration 50: 0.606810\n",
      "Cost after iteration 60: 0.596572\n",
      "Cost after iteration 70: 0.588250\n",
      "Cost after iteration 80: 0.581460\n",
      "Cost after iteration 90: 0.575903\n",
      "Cost after iteration 100: 0.571338\n",
      "Cost after iteration 110: 0.567576\n",
      "Cost after iteration 120: 0.564465\n",
      "Cost after iteration 130: 0.561885\n",
      "Cost after iteration 140: 0.559739\n",
      "Cost after iteration 150: 0.557947\n",
      "Cost after iteration 160: 0.556448\n",
      "Cost after iteration 170: 0.555189\n",
      "Cost after iteration 180: 0.554129\n",
      "Cost after iteration 190: 0.553234\n"
     ]
    },
    {
     "data": {
      "image/png": "[encoded data removed]",
      "text/plain": [
       "<Figure size 432x288 with 1 Axes>"
      ]
     },
     "metadata": {
      "needs_background": "light"
     },
     "output_type": "display_data"
    },
    {
     "name": "stdout",
     "output_type": "stream",
     "text": [
      "train accuracy: 76.30076984337668 %\n",
      "test accuracy: 76.63923546588798 %\n"
     ]
    }
   ],
   "source": [
    "def logistic_regression(x_train, y_train, x_test, y_test, learning_rate ,  num_iterations):\n",
    "    \n",
    "    dimension =  x_train.shape[0]\n",
    "    w,b = initialize_weights_and_bias(dimension)\n",
    "    \n",
    "    parameters, gradients, cost_list = update(w, b, x_train, y_train, learning_rate,num_iterations)\n",
    "    y_prediction_test = predict(parameters[\"weight\"],parameters[\"bias\"],x_test)\n",
    "    y_prediction_train = predict(parameters[\"weight\"],parameters[\"bias\"],x_train)\n",
    "\n",
    "    print(\"train accuracy: {} %\".format(100 - np.mean(np.abs(y_prediction_train - y_train)) * 100))\n",
    "    print(\"test accuracy: {} %\".format(100 - np.mean(np.abs(y_prediction_test - y_test)) * 100))\n",
    "    \n",
    "logistic_regression(x_train, y_train, x_test, y_test,learning_rate =0.01, num_iterations = 200)"
   ]
  },
  {
   "cell_type": "code",
   "execution_count": 22,
   "metadata": {},
   "outputs": [],
   "source": [
    "x,y = song_data.loc[:,song_data.columns != 'popularity'], song_data.loc[:,'popularity']\n",
    "x_train, x_test, y_train, y_test = train_test_split(x, y, test_size = 0.2, random_state=42)\n",
    "y=y.astype(int)\n",
    "y_train= y_train.astype(int)\n",
    "y_test= y_test.astype(int)"
   ]
  },
  {
   "cell_type": "markdown",
   "metadata": {},
   "source": [
    "### ROC Curve"
   ]
  },
  {
   "cell_type": "code",
   "execution_count": 23,
   "metadata": {},
   "outputs": [
    {
     "data": {
      "image/png": "[encoded data removed]",
      "text/plain": [
       "<Figure size 432x288 with 1 Axes>"
      ]
     },
     "metadata": {
      "needs_background": "light"
     },
     "output_type": "display_data"
    }
   ],
   "source": [
    "from sklearn.metrics import roc_curve\n",
    "from sklearn.linear_model import LogisticRegression\n",
    "from sklearn.metrics import confusion_matrix, classification_report\n",
    "logreg = LogisticRegression()\n",
    "logreg.fit(x_train,y_train)\n",
    "y_pred_prob = logreg.predict_proba(x_test)[:,1]\n",
    "fpr, tpr, thresholds = roc_curve(y_test, y_pred_prob)\n",
    "\n",
    "plt.plot([0, 1], [0, 1], 'k--')\n",
    "plt.plot(fpr, tpr,color=\"red\")\n",
    "plt.xlabel('False Positive Rate')\n",
    "plt.ylabel('True Positive Rate')\n",
    "plt.title('ROC')\n",
    "plt.show()"
   ]
  },
  {
   "cell_type": "code",
   "execution_count": 24,
   "metadata": {},
   "outputs": [
    {
     "name": "stdout",
     "output_type": "stream",
     "text": [
      "Tuned hyperparameters : {'C': 0.001, 'penalty': 'l1'}\n",
      "Best Accuracy: 0.7630076984337669\n"
     ]
    }
   ],
   "source": [
    "from sklearn.model_selection import GridSearchCV\n",
    "param_grid = {'C': np.logspace(-3, 3, 7), 'penalty': ['l1', 'l2']}\n",
    "logreg = LogisticRegression()\n",
    "logreg_cv = GridSearchCV(logreg,param_grid,cv=3)\n",
    "logreg_cv.fit(x_train,y_train)\n",
    "print(\"Tuned hyperparameters : {}\".format(logreg_cv.best_params_))\n",
    "print(\"Best Accuracy: {}\".format(logreg_cv.best_score_))\n",
    "##numpy.logspace(start, stop, num=50, endpoint=True, base=10.0, dtype=None, axis=0)"
   ]
  },
  {
   "cell_type": "code",
   "execution_count": 25,
   "metadata": {},
   "outputs": [],
   "source": [
    "Logistic_score=logreg_cv.best_score_"
   ]
  },
  {
   "cell_type": "markdown",
   "metadata": {},
   "source": [
    "## Ridge and Lasso Regression"
   ]
  },
  {
   "cell_type": "code",
   "execution_count": 26,
   "metadata": {},
   "outputs": [],
   "source": [
    "from sklearn.metrics import mean_squared_error\n",
    "def root_mean_squared_error(y_true, y_pred):\n",
    "    return np.sqrt(mean_squared_error(y_true, y_pred))"
   ]
  },
  {
   "cell_type": "markdown",
   "metadata": {},
   "source": [
    "### Ridge"
   ]
  },
  {
   "cell_type": "code",
   "execution_count": 27,
   "metadata": {},
   "outputs": [
    {
     "name": "stdout",
     "output_type": "stream",
     "text": [
      "Test accuracy: 0.41263033819197653\n"
     ]
    }
   ],
   "source": [
    "from sklearn.linear_model import Ridge\n",
    "x_train,x_test,y_train,y_test = train_test_split(x,y,random_state = 2, test_size = 0.1)\n",
    "ridge = Ridge(alpha = 0.1, normalize = True)\n",
    "ridge.fit(x_train,y_train)\n",
    "ridge_predict = ridge.predict(x_test)\n",
    "#print('Ridge score: ',ridge.score(x_test,y_test))\n",
    "print(\"Test accuracy:\",root_mean_squared_error(y_test,ridge_predict))"
   ]
  },
  {
   "cell_type": "code",
   "execution_count": 28,
   "metadata": {},
   "outputs": [],
   "source": [
    "Ridge_score= root_mean_squared_error(y_test,ridge_predict)"
   ]
  },
  {
   "cell_type": "markdown",
   "metadata": {},
   "source": [
    "### Lasso"
   ]
  },
  {
   "cell_type": "code",
   "execution_count": 29,
   "metadata": {},
   "outputs": [
    {
     "name": "stdout",
     "output_type": "stream",
     "text": [
      "Lasso coefficients:  [ 0.  0. -0. -0.  0. -0. -0. -0. -0.  0. -0.  0.]\n",
      "Test accuracy: 0.41723753012000914\n"
     ]
    }
   ],
   "source": [
    "from sklearn.linear_model import Lasso\n",
    "x = np.array(song_data.loc[:,['danceability','energy','audio_valence','tempo','song_duration_ms','acousticness','instrumentalness','key','liveness','loudness','audio_mode','speechiness']])\n",
    "x_train,x_test,y_train,y_test = train_test_split(x,y,random_state = 3, test_size = 0.2)\n",
    "lasso = Lasso(alpha = 0.1, normalize = True)\n",
    "lasso.fit(x_train,y_train)\n",
    "lasso_predict = lasso.predict(x_test)\n",
    "print('Lasso coefficients: ',lasso.coef_)\n",
    "print(\"Test accuracy:\",root_mean_squared_error(y_test,lasso_predict))"
   ]
  },
  {
   "cell_type": "code",
   "execution_count": 30,
   "metadata": {},
   "outputs": [],
   "source": [
    "Lasso_Score=root_mean_squared_error(y_test,lasso_predict)"
   ]
  },
  {
   "cell_type": "code",
   "execution_count": 31,
   "metadata": {},
   "outputs": [],
   "source": [
    "x= ['song_duration_ms', 'acousticness', 'danceability',\n",
    "     'energy', 'instrumentalness', 'key', 'liveness',\n",
    "     'loudness', 'audio_mode', 'speechiness', 'tempo', \n",
    "     'time_signature', 'audio_valence']\n",
    "y= ['popularity']"
   ]
  },
  {
   "cell_type": "code",
   "execution_count": 32,
   "metadata": {},
   "outputs": [],
   "source": [
    "from sklearn import linear_model\n",
    "from sklearn.pipeline import Pipeline\n",
    "from sklearn.preprocessing import PolynomialFeatures\n",
    "from sklearn.model_selection import GridSearchCV, train_test_split\n",
    "import sklearn.metrics as metrics\n",
    "\n",
    "def test(models, data, iterations = 100):\n",
    "    results = {}\n",
    "    for i in models:\n",
    "        r2_train = []\n",
    "        r2_test = []\n",
    "        for j in range(iterations):\n",
    "            r2_test.append(metrics.r2_score(y_test,\n",
    "                                            models[i].fit(x_train, \n",
    "                                                         y_train).predict(x_test)))\n",
    "            r2_train.append(metrics.r2_score(y_train, \n",
    "                                             models[i].fit(x_train, \n",
    "                                                          y_train).predict(x_train)))\n",
    "        results[i] = [np.mean(r2_train), np.mean(r2_test)]\n",
    "    return pd.DataFrame(results)"
   ]
  },
  {
   "cell_type": "code",
   "execution_count": 33,
   "metadata": {},
   "outputs": [
    {
     "data": {
      "text/html": [
       "<div>\n",
       "<style scoped>\n",
       "    .dataframe tbody tr th:only-of-type {\n",
       "        vertical-align: middle;\n",
       "    }\n",
       "\n",
       "    .dataframe tbody tr th {\n",
       "        vertical-align: top;\n",
       "    }\n",
       "\n",
       "    .dataframe thead th {\n",
       "        text-align: right;\n",
       "    }\n",
       "</style>\n",
       "<table border=\"1\" class=\"dataframe\">\n",
       "  <thead>\n",
       "    <tr style=\"text-align: right;\">\n",
       "      <th></th>\n",
       "      <th>OLS</th>\n",
       "      <th>Lasso</th>\n",
       "      <th>Ridge</th>\n",
       "    </tr>\n",
       "  </thead>\n",
       "  <tbody>\n",
       "    <tr>\n",
       "      <td>0</td>\n",
       "      <td>0.053891</td>\n",
       "      <td>0.000016</td>\n",
       "      <td>0.05389</td>\n",
       "    </tr>\n",
       "    <tr>\n",
       "      <td>1</td>\n",
       "      <td>0.052069</td>\n",
       "      <td>-0.001290</td>\n",
       "      <td>0.05206</td>\n",
       "    </tr>\n",
       "  </tbody>\n",
       "</table>\n",
       "</div>"
      ],
      "text/plain": [
       "        OLS     Lasso    Ridge\n",
       "0  0.053891  0.000016  0.05389\n",
       "1  0.052069 -0.001290  0.05206"
      ]
     },
     "execution_count": 33,
     "metadata": {},
     "output_type": "execute_result"
    }
   ],
   "source": [
    "models = {'OLS': linear_model.LinearRegression(),\n",
    "         'Lasso': linear_model.Lasso(),\n",
    "         'Ridge': linear_model.Ridge(),}\n",
    "test(models,song_data)"
   ]
  },
  {
   "cell_type": "code",
   "execution_count": 34,
   "metadata": {},
   "outputs": [
    {
     "data": {
      "text/html": [
       "<div>\n",
       "<style scoped>\n",
       "    .dataframe tbody tr th:only-of-type {\n",
       "        vertical-align: middle;\n",
       "    }\n",
       "\n",
       "    .dataframe tbody tr th {\n",
       "        vertical-align: top;\n",
       "    }\n",
       "\n",
       "    .dataframe thead th {\n",
       "        text-align: right;\n",
       "    }\n",
       "</style>\n",
       "<table border=\"1\" class=\"dataframe\">\n",
       "  <thead>\n",
       "    <tr style=\"text-align: right;\">\n",
       "      <th></th>\n",
       "      <th>OLS</th>\n",
       "      <th>Lasso</th>\n",
       "      <th>Ridge</th>\n",
       "    </tr>\n",
       "  </thead>\n",
       "  <tbody>\n",
       "    <tr>\n",
       "      <td>0</td>\n",
       "      <td>0.053891</td>\n",
       "      <td>0.000016</td>\n",
       "      <td>0.05389</td>\n",
       "    </tr>\n",
       "    <tr>\n",
       "      <td>1</td>\n",
       "      <td>0.052069</td>\n",
       "      <td>-0.001290</td>\n",
       "      <td>0.05206</td>\n",
       "    </tr>\n",
       "  </tbody>\n",
       "</table>\n",
       "</div>"
      ],
      "text/plain": [
       "        OLS     Lasso    Ridge\n",
       "0  0.053891  0.000016  0.05389\n",
       "1  0.052069 -0.001290  0.05206"
      ]
     },
     "execution_count": 34,
     "metadata": {},
     "output_type": "execute_result"
    }
   ],
   "source": [
    "test(models,song_data)"
   ]
  },
  {
   "cell_type": "markdown",
   "metadata": {},
   "source": [
    "## KNN Algorithm"
   ]
  },
  {
   "cell_type": "markdown",
   "metadata": {},
   "source": [
    "### To Predict"
   ]
  },
  {
   "cell_type": "code",
   "execution_count": 35,
   "metadata": {},
   "outputs": [
    {
     "name": "stdout",
     "output_type": "stream",
     "text": [
      "Prediction: [0 0 0 ... 0 0 0]\n"
     ]
    }
   ],
   "source": [
    "from sklearn.neighbors import KNeighborsClassifier\n",
    "knn = KNeighborsClassifier(n_neighbors = 3)\n",
    "x,y = song_data.loc[:,song_data.columns != 'popularity'], song_data.loc[:,'popularity']\n",
    "y=y.astype(int)\n",
    "knn.fit(x,y)\n",
    "prediction = knn.predict(x)\n",
    "print('Prediction: {}'.format(prediction))"
   ]
  },
  {
   "cell_type": "markdown",
   "metadata": {},
   "source": [
    "### Test"
   ]
  },
  {
   "cell_type": "code",
   "execution_count": 36,
   "metadata": {},
   "outputs": [
    {
     "name": "stdout",
     "output_type": "stream",
     "text": [
      "With KNN (K=3) train accuracy is:  0.995022564374834\n",
      "With KNN (K=3) test accuracy is:  0.8348818688611628\n"
     ]
    }
   ],
   "source": [
    "knn = KNeighborsClassifier(n_neighbors = 1)\n",
    "knn.fit(x_train,y_train)\n",
    "prediction = knn.predict(x_test)\n",
    "print('With KNN (K=3) train accuracy is: ',knn.score(x_train,y_train))\n",
    "print('With KNN (K=3) test accuracy is: ',knn.score(x_test,y_test))"
   ]
  },
  {
   "cell_type": "code",
   "execution_count": 37,
   "metadata": {},
   "outputs": [
    {
     "data": {
      "image/png": "[encoded data removed]",
      "text/plain": [
       "<Figure size 720x432 with 1 Axes>"
      ]
     },
     "metadata": {
      "needs_background": "light"
     },
     "output_type": "display_data"
    },
    {
     "name": "stdout",
     "output_type": "stream",
     "text": [
      "Best accuracy is 0.8433766923281125 with K = 2\n"
     ]
    }
   ],
   "source": [
    "neig = np.arange(1, 25)\n",
    "train_accuracy = []\n",
    "test_accuracy = []\n",
    "\n",
    "for i, k in enumerate(neig):\n",
    "    knn = KNeighborsClassifier(n_neighbors=k)\n",
    "    knn.fit(x_train,y_train)\n",
    "    train_accuracy.append(knn.score(x_train, y_train))\n",
    "    test_accuracy.append(knn.score(x_test, y_test))\n",
    "\n",
    "plt.figure(figsize=[10,6])\n",
    "plt.plot(neig, test_accuracy, label = 'Testing Accuracy')\n",
    "plt.plot(neig, train_accuracy, label = 'Training Accuracy')\n",
    "plt.legend()\n",
    "plt.title('Knn k value VS Accuracy')\n",
    "plt.xlabel('Number of Neighbors')\n",
    "plt.ylabel('Accuracy')\n",
    "plt.xticks(neig)\n",
    "plt.savefig('graph.png')\n",
    "plt.show()\n",
    "print(\"Best accuracy is {} with K = {}\".format(np.max(test_accuracy),1+test_accuracy.index(np.max(test_accuracy))))"
   ]
  },
  {
   "cell_type": "code",
   "execution_count": 38,
   "metadata": {},
   "outputs": [],
   "source": [
    "KKN_Score= max(test_accuracy)"
   ]
  },
  {
   "cell_type": "markdown",
   "metadata": {},
   "source": [
    "## SVM"
   ]
  },
  {
   "cell_type": "code",
   "execution_count": 39,
   "metadata": {},
   "outputs": [
    {
     "name": "stdout",
     "output_type": "stream",
     "text": [
      "Train accuracy of svm algo: 0.9888505441996284\n",
      "Test accuracy of svm algo: 0.9203610299973454\n"
     ]
    }
   ],
   "source": [
    "from sklearn.svm import SVC\n",
    "svm= SVC(random_state=1)\n",
    "svm.fit(x_train,y_train)\n",
    "print(\"Train accuracy of svm algo:\",svm.score(x_train,y_train))\n",
    "print(\"Test accuracy of svm algo:\",svm.score(x_test,y_test))"
   ]
  },
  {
   "cell_type": "code",
   "execution_count": 40,
   "metadata": {},
   "outputs": [],
   "source": [
    "SVM_score= svm.score(x_test,y_test)"
   ]
  },
  {
   "cell_type": "markdown",
   "metadata": {},
   "source": [
    "## Naive Bayes"
   ]
  },
  {
   "cell_type": "code",
   "execution_count": 41,
   "metadata": {},
   "outputs": [
    {
     "name": "stdout",
     "output_type": "stream",
     "text": [
      "Train accuracy of naive bayes: 0.7606185293336872\n",
      "Test accuracy of naive bayes: 0.7759490310591983\n"
     ]
    }
   ],
   "source": [
    "from sklearn.naive_bayes import GaussianNB\n",
    "nb= GaussianNB()\n",
    "nb.fit(x_train,y_train)\n",
    "print(\"Train accuracy of naive bayes:\",nb.score(x_train,y_train))\n",
    "print(\"Test accuracy of naive bayes:\",nb.score(x_test,y_test))"
   ]
  },
  {
   "cell_type": "code",
   "execution_count": 42,
   "metadata": {},
   "outputs": [],
   "source": [
    "Naive_bayes_score=nb.score(x_test,y_test)"
   ]
  },
  {
   "cell_type": "markdown",
   "metadata": {},
   "source": [
    "## Decision Tree Classifier"
   ]
  },
  {
   "cell_type": "code",
   "execution_count": 43,
   "metadata": {},
   "outputs": [
    {
     "name": "stdout",
     "output_type": "stream",
     "text": [
      "Train ccuracy of decision tree: 0.9957525882665251\n",
      "Test accuracy of decision tree: 0.8431112290947703\n"
     ]
    }
   ],
   "source": [
    "from sklearn.metrics import accuracy_score,recall_score,precision_score,confusion_matrix,f1_score\n",
    "from sklearn.tree import DecisionTreeClassifier\n",
    "\n",
    "dt= DecisionTreeClassifier()\n",
    "dt.fit(x_train,y_train)\n",
    "y_pred=dt.predict(x_test)\n",
    "DecisionTree_score=dt.score(x_test,y_test)\n",
    "print(\"Train ccuracy of decision tree:\",dt.score(x_train,y_train))\n",
    "print(\"Test accuracy of decision tree:\",dt.score(x_test,y_test))"
   ]
  },
  {
   "cell_type": "markdown",
   "metadata": {},
   "source": [
    "## Comparing Performances"
   ]
  },
  {
   "cell_type": "code",
   "execution_count": 48,
   "metadata": {},
   "outputs": [
    {
     "data": {
      "text/html": [
       "<div>\n",
       "<style scoped>\n",
       "    .dataframe tbody tr th:only-of-type {\n",
       "        vertical-align: middle;\n",
       "    }\n",
       "\n",
       "    .dataframe tbody tr th {\n",
       "        vertical-align: top;\n",
       "    }\n",
       "\n",
       "    .dataframe thead th {\n",
       "        text-align: right;\n",
       "    }\n",
       "</style>\n",
       "<table border=\"1\" class=\"dataframe\">\n",
       "  <thead>\n",
       "    <tr style=\"text-align: right;\">\n",
       "      <th></th>\n",
       "      <th>Model</th>\n",
       "      <th>Accuracy</th>\n",
       "    </tr>\n",
       "  </thead>\n",
       "  <tbody>\n",
       "    <tr>\n",
       "      <td>0</td>\n",
       "      <td>SVM</td>\n",
       "      <td>0.920361</td>\n",
       "    </tr>\n",
       "    <tr>\n",
       "      <td>1</td>\n",
       "      <td>K-NearestNeighbors</td>\n",
       "      <td>0.843377</td>\n",
       "    </tr>\n",
       "    <tr>\n",
       "      <td>2</td>\n",
       "      <td>DesicionTreeClassifier</td>\n",
       "      <td>0.843111</td>\n",
       "    </tr>\n",
       "    <tr>\n",
       "      <td>3</td>\n",
       "      <td>NaiveBayes</td>\n",
       "      <td>0.775949</td>\n",
       "    </tr>\n",
       "    <tr>\n",
       "      <td>4</td>\n",
       "      <td>LogisticRegession</td>\n",
       "      <td>0.763008</td>\n",
       "    </tr>\n",
       "    <tr>\n",
       "      <td>5</td>\n",
       "      <td>Lasso</td>\n",
       "      <td>0.417238</td>\n",
       "    </tr>\n",
       "    <tr>\n",
       "      <td>6</td>\n",
       "      <td>Ridge</td>\n",
       "      <td>0.412630</td>\n",
       "    </tr>\n",
       "  </tbody>\n",
       "</table>\n",
       "</div>"
      ],
      "text/plain": [
       "                    Model  Accuracy\n",
       "0                     SVM  0.920361\n",
       "1      K-NearestNeighbors  0.843377\n",
       "2  DesicionTreeClassifier  0.843111\n",
       "3              NaiveBayes  0.775949\n",
       "4       LogisticRegession  0.763008\n",
       "5                   Lasso  0.417238\n",
       "6                   Ridge  0.412630"
      ]
     },
     "execution_count": 48,
     "metadata": {},
     "output_type": "execute_result"
    }
   ],
   "source": [
    "model_performances=pd.DataFrame({'Model':['SVM','K-NearestNeighbors','DesicionTreeClassifier','NaiveBayes','LogisticRegession','Lasso','Ridge'],\n",
    "                                 'Accuracy':[SVM_score,KKN_Score,DecisionTree_score,Naive_bayes_score,Logistic_score,Lasso_Score,Ridge_score]})\n",
    "model_performances.sort_values(by = \"Accuracy\",ascending=False)"
   ]
  },
  {
   "cell_type": "code",
   "execution_count": 49,
   "metadata": {},
   "outputs": [
    {
     "data": {
      "image/png": "[encoded data removed]",
      "text/plain": [
       "<Figure size 288x432 with 1 Axes>"
      ]
     },
     "metadata": {
      "needs_background": "light"
     },
     "output_type": "display_data"
    }
   ],
   "source": [
    "model_list= list(model_performances['Model'].unique())\n",
    "accuracy_list= list(model_performances['Accuracy'].sort_values(ascending=False))\n",
    "f,ax = plt.subplots(figsize = (4,6))\n",
    "sns.barplot(x=accuracy_list,y=model_list,color='green',alpha = 0.5)\n",
    "ax.set(xlabel='Test Accuracies', ylabel='Models')\n",
    "plt.show()"
   ]
  },
  {
   "cell_type": "code",
   "execution_count": null,
   "metadata": {},
   "outputs": [],
   "source": []
  }
 ],
 "metadata": {
  "kernelspec": {
   "display_name": "Python 3",
   "language": "python",
   "name": "python3"
  },
  "language_info": {
   "codemirror_mode": {
    "name": "ipython",
    "version": 3
   },
   "file_extension": ".py",
   "mimetype": "text/x-python",
   "name": "python",
   "nbconvert_exporter": "python",
   "pygments_lexer": "ipython3",
   "version": "3.7.4"
  }
 },
 "nbformat": 4,
 "nbformat_minor": 2
}
